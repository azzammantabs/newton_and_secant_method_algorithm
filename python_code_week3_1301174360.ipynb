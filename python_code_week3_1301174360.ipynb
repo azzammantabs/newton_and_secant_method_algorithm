{
  "nbformat": 4,
  "nbformat_minor": 0,
  "metadata": {
    "colab": {
      "name": "python_code_week3_1301174360.ipynb",
      "provenance": [],
      "collapsed_sections": []
    },
    "kernelspec": {
      "name": "python3",
      "display_name": "Python 3"
    }
  },
  "cells": [
    {
      "cell_type": "code",
      "metadata": {
        "id": "Q49kzp-LlvdQ"
      },
      "source": [
        "import numpy as np\n",
        "\n",
        "def f(x):\n",
        "  return  np.cos(x)-x\n",
        "\n",
        "def df(x):\n",
        "  return  (-np.sin(x))-1"
      ],
      "execution_count": null,
      "outputs": []
    },
    {
      "cell_type": "markdown",
      "metadata": {
        "id": "ycylObW-msws"
      },
      "source": [
        "INPUT: Given the initial conditions"
      ]
    },
    {
      "cell_type": "code",
      "metadata": {
        "id": "cmrMV-hcmgso"
      },
      "source": [
        "p0 = np.pi/4\n",
        "TOL = 0.05\n",
        "N0 = 10"
      ],
      "execution_count": null,
      "outputs": []
    },
    {
      "cell_type": "markdown",
      "metadata": {
        "id": "BXbyNnhPlpC7"
      },
      "source": [
        "Execute in Newton's algorithm steps"
      ]
    },
    {
      "cell_type": "markdown",
      "metadata": {
        "id": "SsBBt3EaloO3"
      },
      "source": [
        "Step 1"
      ]
    },
    {
      "cell_type": "code",
      "metadata": {
        "id": "yybcPjpPln4L"
      },
      "source": [
        "i = 1"
      ],
      "execution_count": null,
      "outputs": []
    },
    {
      "cell_type": "markdown",
      "metadata": {
        "id": "wYl-hmC9lnio"
      },
      "source": [
        "Step 2 - 6"
      ]
    },
    {
      "cell_type": "code",
      "metadata": {
        "id": "W2uNRodglnMG",
        "outputId": "041a4790-e391-437d-8fa3-f9a2d69735c2",
        "colab": {
          "base_uri": "https://localhost:8080/",
          "height": 67
        }
      },
      "source": [
        "print(\"0 {} {} \".format(i,p0,f(p0)))\n",
        "while (i <= N0):\n",
        "  p =  p0 - (f(p0)/df(p0))\n",
        "  FP = f(p)\n",
        "  print(\"{} {} {}\".format(i,p,FP))\n",
        "  \n",
        "  if (abs(p-p0) < TOL) :\n",
        "    print(\"Root is {}\".format(p))\n",
        "    break\n",
        "  \n",
        "  i = i+1\n",
        "  p0 = p\n",
        "  \n",
        "  "
      ],
      "execution_count": null,
      "outputs": [
        {
          "output_type": "stream",
          "text": [
            "0 3 0.7853981633974483 \n",
            "3 0.7395361335152383 -0.000754874682502682\n",
            "Root is 0.7395361335152383\n"
          ],
          "name": "stdout"
        }
      ]
    },
    {
      "cell_type": "markdown",
      "metadata": {
        "id": "baY5d7V_lm3B"
      },
      "source": [
        "**Exercise**:\n",
        "\n",
        "Use Newton's method to find the solution accurate to within $10^{-4}$ for the following problem\n",
        "\n",
        "\n",
        "1.   $x^3 - 2x^2 -5=0$ for $x\\in[1,4]$\n",
        "2.   $x - 0.8 - 0.2 \\sin(x)=0$ for $x \\in [0, \\pi/2]$\n",
        "\n"
      ]
    },
    {
      "cell_type": "markdown",
      "metadata": {
        "id": "029zNeLN2jSw"
      },
      "source": [
        "Number 1"
      ]
    },
    {
      "cell_type": "code",
      "metadata": {
        "id": "UkPYwd-J2QZK",
        "outputId": "1d7879be-d24a-4b3c-b051-463506bd77a3",
        "colab": {
          "base_uri": "https://localhost:8080/",
          "height": 134
        }
      },
      "source": [
        "import numpy as np\n",
        "\n",
        "def f(x):\n",
        "  return  (x**3)-(2*(x**2))-5\n",
        "\n",
        "def df(x):\n",
        "  return  (3*(x**2))-(4*x)\n",
        "\n",
        "\n",
        "p0 = 2\n",
        "TOL = 0.0001\n",
        "N0 = 10\n",
        "\n",
        "i = 1\n",
        "\n",
        "print(\"0 {} {} \".format(i,p0,f(p0)))\n",
        "while (i <= N0):\n",
        "  p =  p0 - (f(p0)/df(p0))\n",
        "  FP = f(p)\n",
        "  print(\"{} {} {}\".format(i,p,FP))\n",
        "  \n",
        "  if (abs(p-p0) < TOL) :\n",
        "    print(\"Root is {}\".format(p))\n",
        "    break\n",
        "  \n",
        "  i = i+1\n",
        "  p0 = p"
      ],
      "execution_count": null,
      "outputs": [
        {
          "output_type": "stream",
          "text": [
            "0 1 2 \n",
            "1 3.25 8.203125\n",
            "2 2.811036789297659 1.4087541771415921\n",
            "3 2.697989502468529 0.08076844101196201\n",
            "4 2.6906771528603617 0.0003254562850933951\n",
            "5 2.690647448517619 5.3576165726099134e-09\n",
            "Root is 2.690647448517619\n"
          ],
          "name": "stdout"
        }
      ]
    },
    {
      "cell_type": "markdown",
      "metadata": {
        "id": "Uk2RaHTe2o47"
      },
      "source": [
        "Number 2"
      ]
    },
    {
      "cell_type": "code",
      "metadata": {
        "id": "pbR1MWh82mzH",
        "outputId": "bdc0fe04-95bd-4e78-c316-5cc64042a277",
        "colab": {
          "base_uri": "https://localhost:8080/",
          "height": 118
        }
      },
      "source": [
        "import numpy as np\n",
        "\n",
        "def f(x):\n",
        "  return  x-0.8-(0.2*(np.sin(x)))\n",
        "\n",
        "def df(x):\n",
        "  return  1-(0.2*np.cos(x))\n",
        "\n",
        "\n",
        "p0 = 2\n",
        "TOL = 0.0001\n",
        "N0 = 10\n",
        "\n",
        "i = 1\n",
        "\n",
        "print(\"0 {} {} \".format(i,p0,f(p0)))\n",
        "while (i <= N0):\n",
        "  p =  p0 - (f(p0)/df(p0))\n",
        "  FP = f(p)\n",
        "  print(\"{} {} {}\".format(i,p,FP))\n",
        "  \n",
        "  if (abs(p-p0) < TOL) :\n",
        "    print(\"Root is {}\".format(p))\n",
        "    break\n",
        "  \n",
        "  i = i+1\n",
        "  p0 = p"
      ],
      "execution_count": null,
      "outputs": [
        {
          "output_type": "stream",
          "text": [
            "0 1 2 \n",
            "1 1.0600877843962402 0.08560810553139081\n",
            "2 0.9652039174088889 0.0007709147425656315\n",
            "3 0.9643339579106599 6.221137871520455e-08\n",
            "4 0.9643338876952232 4.440892098500626e-16\n",
            "Root is 0.9643338876952232\n"
          ],
          "name": "stdout"
        }
      ]
    },
    {
      "cell_type": "code",
      "metadata": {
        "id": "O6R6o5Y7oIrd"
      },
      "source": [
        "import numpy as np\n",
        "\n",
        "def f(x):\n",
        "  return np.cos(x)-x"
      ],
      "execution_count": null,
      "outputs": []
    },
    {
      "cell_type": "code",
      "metadata": {
        "id": "ZdaFQGNvoTcX"
      },
      "source": [
        "p0 = 0.5\n",
        "p1 = np.pi/4\n",
        "TOL = 0.0001\n",
        "N0 = 10"
      ],
      "execution_count": null,
      "outputs": []
    },
    {
      "cell_type": "markdown",
      "metadata": {
        "id": "TFtKwnZjlilD"
      },
      "source": [
        "Execute in Secant algorithm steps"
      ]
    },
    {
      "cell_type": "markdown",
      "metadata": {
        "id": "uYLthllYliXD"
      },
      "source": [
        "Step 1"
      ]
    },
    {
      "cell_type": "code",
      "metadata": {
        "id": "a0tHmXc7liIR"
      },
      "source": [
        "i = 2\n",
        "q0 = f(p0)\n",
        "q1 = f(p1)"
      ],
      "execution_count": null,
      "outputs": []
    },
    {
      "cell_type": "markdown",
      "metadata": {
        "id": "HRxhCwfElh5O"
      },
      "source": [
        "Step 2 - 6"
      ]
    },
    {
      "cell_type": "code",
      "metadata": {
        "id": "8MDgrTI8lUP8",
        "outputId": "1808f66c-1d41-4d4f-fb12-5f880fe7227f",
        "colab": {
          "base_uri": "https://localhost:8080/",
          "height": 134
        }
      },
      "source": [
        "print(\"0 {} {} \".format(i,p0,f(p0)))\n",
        "print(\"1 {} {} \".format(i,p1,f(p1)))\n",
        "while (i <= N0):\n",
        " p = p1 - (q1*(p1-p0))/(q1-q0)\n",
        " FP = f(p)\n",
        " print(\"{} {} {} \".format(i,p,FP))\n",
        "\n",
        " if (abs(p-p0) < TOL) :\n",
        "   print(\"Root is {} \".format(p))\n",
        "   break\n",
        "   \n",
        " i = i + 1\n",
        "\n",
        " p0 = p1\n",
        " q0 = q1\n",
        " p1 = p\n",
        " q1 = FP\n",
        "  \n",
        "  "
      ],
      "execution_count": null,
      "outputs": [
        {
          "output_type": "stream",
          "text": [
            "0 2 0.5 \n",
            "1 2 0.7853981633974483 \n",
            "2 0.7363841388365822 0.0045177185221702 \n",
            "3 0.7390581392138897 4.5177215963754236e-05 \n",
            "4 0.7390851493372764 -2.6982167056210926e-08 \n",
            "5 0.7390851332150645 1.6087131626818518e-13 \n",
            "Root is 0.7390851332150645 \n"
          ],
          "name": "stdout"
        }
      ]
    },
    {
      "cell_type": "markdown",
      "metadata": {
        "id": "Tayq7TVKlTrK"
      },
      "source": [
        "**Exercise**:\n",
        "\n",
        "Use Secant method to find the solution accurate to within $10^{-5}$ for the following problem\n",
        "\n",
        "\n",
        "1.   $e^x + 2^{-x} + 2 \\cos(x) -6$  for $x\\in [1,2]$\n",
        "2.   $\\ln(x-1) + \\cos(x-1)=0$  for $x \\in [1.3, 2]$"
      ]
    },
    {
      "cell_type": "markdown",
      "metadata": {
        "id": "tg8x3ri3VYfP"
      },
      "source": [
        "Number 1"
      ]
    },
    {
      "cell_type": "code",
      "metadata": {
        "id": "e3tbVpEPsC6Q",
        "outputId": "6bb9f491-e7de-401c-d93f-dc06833e2bee",
        "colab": {
          "base_uri": "https://localhost:8080/",
          "height": 101
        }
      },
      "source": [
        "import numpy as np\n",
        "import sys\n",
        "\n",
        "epsilon = sys.float_info.epsilon\n",
        "def f(x):\n",
        "  return (epsilon**x)+(1/2**x)+(2*np.cos(x))-6\n",
        "\n",
        "\n",
        "p0 = 1.5\n",
        "p1 = 1.8\n",
        "TOL = 0.00001\n",
        "N0 = 10\n",
        "\n",
        "i = 2\n",
        "q0 = f(p0)\n",
        "q1 = f(p1)\n",
        "\n",
        "print(\"0 {} {} \".format(i,p0,f(p0)))\n",
        "print(\"1 {} {} \".format(i,p1,f(p1)))\n",
        "while (i <= N0):\n",
        " p = p1 - (q1*(p1-p0))/(q1-q0)\n",
        " FP = f(p)\n",
        " print(\"{} {} {} \".format(i,p,FP))\n",
        "\n",
        " if (abs(p-p0) < TOL) :\n",
        "   print(\"Root is {} \".format(p))\n",
        "   break\n",
        "   \n",
        " i = i + 1\n",
        "\n",
        " p0 = p1\n",
        " q0 = q1\n",
        " p1 = p\n",
        " q1 = FP\n",
        "  "
      ],
      "execution_count": null,
      "outputs": [
        {
          "output_type": "stream",
          "text": [
            "0 2 1.5 \n",
            "1 2 1.8 \n",
            "2 -0.9937307991927915 3592729044672933.0 \n",
            "3 1.7999999999999956 -6.167229600636906 \n",
            "Root is 1.7999999999999956 \n"
          ],
          "name": "stdout"
        }
      ]
    },
    {
      "cell_type": "markdown",
      "metadata": {
        "id": "2dvulgxCVo7y"
      },
      "source": [
        "Number 2"
      ]
    },
    {
      "cell_type": "code",
      "metadata": {
        "id": "NesIPhGpVnmf",
        "outputId": "6f9bce4f-63b3-4f6b-8130-367f7236480a",
        "colab": {
          "base_uri": "https://localhost:8080/",
          "height": 202
        }
      },
      "source": [
        "import numpy as np\n",
        "\n",
        "def f(x):\n",
        "  return (np.log(x-1))+(np.cos(x-1))\n",
        "\n",
        "\n",
        "p0 = 1.5\n",
        "p1 = 1.8\n",
        "TOL = 0.00001\n",
        "N0 = 10\n",
        "\n",
        "i = 2\n",
        "q0 = f(p0)\n",
        "q1 = f(p1)\n",
        "\n",
        "print(\"0 {} {} \".format(i,p0,f(p0)))\n",
        "print(\"1 {} {} \".format(i,p1,f(p1)))\n",
        "while (i <= N0):\n",
        " p = p1 - (q1*(p1-p0))/(q1-q0)\n",
        " FP = f(p)\n",
        " print(\"{} {} {} \".format(i,p,FP))\n",
        "\n",
        " if (abs(p-p0) < TOL) :\n",
        "   print(\"Root is {} \".format(p))\n",
        "   break\n",
        "   \n",
        " i = i + 1\n",
        "\n",
        " p0 = p1\n",
        " q0 = q1\n",
        " p1 = p\n",
        " q1 = FP\n",
        "  "
      ],
      "execution_count": null,
      "outputs": [
        {
          "output_type": "stream",
          "text": [
            "0 2 1.5 \n",
            "1 2 1.8 \n",
            "2 1.3086291983766898 -0.22286387805534358 \n",
            "3 1.4658729536278132 0.12958745905041835 \n",
            "4 1.408058394426909 0.021548044503956754 \n",
            "5 1.3965275035953784 -0.002602182471363901 \n",
            "6 1.3977699549409364 4.568000296190089e-05 \n",
            "7 1.3977485206022215 9.494809682930594e-08 \n",
            "8 1.3977484759571142 -3.4727776210274897e-12 \n",
            "9 1.397748475958747 2.220446049250313e-16 \n",
            "Root is 1.397748475958747 \n"
          ],
          "name": "stdout"
        }
      ]
    }
  ]
}